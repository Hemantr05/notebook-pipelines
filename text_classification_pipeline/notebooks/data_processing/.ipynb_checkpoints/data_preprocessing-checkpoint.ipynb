{
 "cells": [
  {
   "cell_type": "markdown",
   "id": "c36fb031-49c7-4de1-9a95-0cdbef8e3dd2",
   "metadata": {
    "papermill": {
     "duration": 0.012217,
     "end_time": "2024-02-07T21:13:51.739713",
     "exception": false,
     "start_time": "2024-02-07T21:13:51.727496",
     "status": "completed"
    },
    "tags": []
   },
   "source": [
    "## Import packages"
   ]
  },
  {
   "cell_type": "code",
   "execution_count": null,
   "id": "66a0e6cc-9551-4ae6-9a3c-9aab6ed1c2c3",
   "metadata": {
    "papermill": {
     "duration": 0.677264,
     "end_time": "2024-02-07T21:13:52.425243",
     "exception": false,
     "start_time": "2024-02-07T21:13:51.747979",
     "status": "completed"
    },
    "tags": []
   },
   "outputs": [],
   "source": [
    "import pandas as pd\n",
    "from sklearn.model_selection import train_test_split"
   ]
  },
  {
   "cell_type": "markdown",
   "id": "ff7a09e1-03f2-4cc8-a85c-ef0ec27c134c",
   "metadata": {
    "papermill": {
     "duration": 0.001289,
     "end_time": "2024-02-07T21:13:52.428384",
     "exception": false,
     "start_time": "2024-02-07T21:13:52.427095",
     "status": "completed"
    },
    "tags": []
   },
   "source": [
    "## Load data"
   ]
  },
  {
   "cell_type": "code",
   "execution_count": null,
   "id": "2b5790db-e5f3-4fd4-9839-b70401a10b4f",
   "metadata": {
    "papermill": {
     "duration": 0.250157,
     "end_time": "2024-02-07T21:13:52.679783",
     "exception": false,
     "start_time": "2024-02-07T21:13:52.429626",
     "status": "completed"
    },
    "tags": []
   },
   "outputs": [],
   "source": [
    "data = pd.read_csv('../../data/ecommerceDataset.csv')"
   ]
  },
  {
   "cell_type": "code",
   "execution_count": null,
   "id": "14cd98a6-b493-450a-8f1c-303d02706d43",
   "metadata": {
    "papermill": {
     "duration": 0.005008,
     "end_time": "2024-02-07T21:13:52.686413",
     "exception": false,
     "start_time": "2024-02-07T21:13:52.681405",
     "status": "completed"
    },
    "tags": []
   },
   "outputs": [],
   "source": [
    "data.shape"
   ]
  },
  {
   "cell_type": "code",
   "execution_count": null,
   "id": "22f4c4b5-3971-4cba-b121-be1b0dd73857",
   "metadata": {
    "papermill": {
     "duration": 0.003875,
     "end_time": "2024-02-07T21:13:52.691595",
     "exception": false,
     "start_time": "2024-02-07T21:13:52.687720",
     "status": "completed"
    },
    "tags": []
   },
   "outputs": [],
   "source": [
    "data.columns = [\"target\", \"text\"]"
   ]
  },
  {
   "cell_type": "markdown",
   "id": "9cb2f81d-262b-4ea1-86e4-0cfa69ede20f",
   "metadata": {
    "papermill": {
     "duration": 0.001302,
     "end_time": "2024-02-07T21:13:52.694490",
     "exception": false,
     "start_time": "2024-02-07T21:13:52.693188",
     "status": "completed"
    },
    "tags": []
   },
   "source": [
    "## Data exploration"
   ]
  },
  {
   "cell_type": "code",
   "execution_count": null,
   "id": "1160a5f8-3e6b-48e0-87c9-a48a00135ff3",
   "metadata": {
    "papermill": {
     "duration": 0.006812,
     "end_time": "2024-02-07T21:13:52.702561",
     "exception": false,
     "start_time": "2024-02-07T21:13:52.695749",
     "status": "completed"
    },
    "tags": []
   },
   "outputs": [],
   "source": [
    "data.isna().sum()"
   ]
  },
  {
   "cell_type": "code",
   "execution_count": null,
   "id": "8f5eb38a-85d5-4221-87c2-c184b354f139",
   "metadata": {
    "papermill": {
     "duration": 0.008051,
     "end_time": "2024-02-07T21:13:52.711973",
     "exception": false,
     "start_time": "2024-02-07T21:13:52.703922",
     "status": "completed"
    },
    "tags": []
   },
   "outputs": [],
   "source": [
    "data.dropna(inplace=True)\n",
    "data.shape"
   ]
  },
  {
   "cell_type": "code",
   "execution_count": null,
   "id": "a61f6ea0-8fea-4fcd-852d-9de897f6f23b",
   "metadata": {
    "papermill": {
     "duration": 0.005582,
     "end_time": "2024-02-07T21:13:52.718979",
     "exception": false,
     "start_time": "2024-02-07T21:13:52.713397",
     "status": "completed"
    },
    "tags": []
   },
   "outputs": [],
   "source": [
    "data.target.value_counts()"
   ]
  },
  {
   "cell_type": "code",
   "execution_count": null,
   "id": "035feb17-cb06-43f1-8b7a-8da7f54b64bb",
   "metadata": {
    "papermill": {
     "duration": 0.006819,
     "end_time": "2024-02-07T21:13:52.727284",
     "exception": false,
     "start_time": "2024-02-07T21:13:52.720465",
     "status": "completed"
    },
    "tags": []
   },
   "outputs": [],
   "source": [
    "label2idx = {key: i for i, key in enumerate(sorted(data.target.unique()))}\n",
    "print(\"labe2idx: \", label2idx)\n",
    "idx2label = {i: key for i, key in enumerate(sorted(data.target.unique()))}\n",
    "print(\"idx2label\", idx2label)"
   ]
  },
  {
   "cell_type": "code",
   "execution_count": null,
   "id": "0c56ef9f-0343-4d88-8979-6910ff769603",
   "metadata": {
    "papermill": {
     "duration": 0.005119,
     "end_time": "2024-02-07T21:13:52.733794",
     "exception": false,
     "start_time": "2024-02-07T21:13:52.728675",
     "status": "completed"
    },
    "tags": []
   },
   "outputs": [],
   "source": [
    "data.target = data.target.map(label2idx)"
   ]
  },
  {
   "cell_type": "markdown",
   "id": "720d819d-7279-4ec1-9b0f-85bae97829af",
   "metadata": {
    "papermill": {
     "duration": 0.001379,
     "end_time": "2024-02-07T21:13:52.736625",
     "exception": false,
     "start_time": "2024-02-07T21:13:52.735246",
     "status": "completed"
    },
    "tags": []
   },
   "source": [
    "## Split data"
   ]
  },
  {
   "cell_type": "code",
   "execution_count": null,
   "id": "b5de0136-de33-4b6d-b004-c87e848aeeb0",
   "metadata": {
    "papermill": {
     "duration": 0.003931,
     "end_time": "2024-02-07T21:13:52.741964",
     "exception": false,
     "start_time": "2024-02-07T21:13:52.738033",
     "status": "completed"
    },
    "tags": []
   },
   "outputs": [],
   "source": [
    "X = data.text.values\n",
    "y = data.target.values"
   ]
  },
  {
   "cell_type": "code",
   "execution_count": null,
   "id": "d98af24f-17b9-4b88-a9d9-3b5e3c8dc64d",
   "metadata": {
    "papermill": {
     "duration": 0.011353,
     "end_time": "2024-02-07T21:13:52.754645",
     "exception": false,
     "start_time": "2024-02-07T21:13:52.743292",
     "status": "completed"
    },
    "tags": []
   },
   "outputs": [],
   "source": [
    "X_train, X_test, y_train, y_test = train_test_split(X, y, test_size=0.3, stratify=y, shuffle=True, random_state=42)"
   ]
  },
  {
   "cell_type": "code",
   "execution_count": null,
   "id": "f0ecd681-077b-4065-a857-d00275f1af1c",
   "metadata": {
    "papermill": {
     "duration": 0.004455,
     "end_time": "2024-02-07T21:13:52.760573",
     "exception": false,
     "start_time": "2024-02-07T21:13:52.756118",
     "status": "completed"
    },
    "tags": []
   },
   "outputs": [],
   "source": [
    "train_df = pd.DataFrame(columns=['text', 'target'])\n",
    "test_df = pd.DataFrame(columns=['text', 'target'])"
   ]
  },
  {
   "cell_type": "code",
   "execution_count": null,
   "id": "a2e8e34f-c6d7-45cc-8820-15b53668c690",
   "metadata": {
    "papermill": {
     "duration": 0.264944,
     "end_time": "2024-02-07T21:13:53.027127",
     "exception": false,
     "start_time": "2024-02-07T21:13:52.762183",
     "status": "completed"
    },
    "tags": []
   },
   "outputs": [],
   "source": [
    "train_df['text'] = X_train\n",
    "train_df['target'] = y_train\n",
    "train_df.to_csv('../../data/train.csv')"
   ]
  },
  {
   "cell_type": "code",
   "execution_count": null,
   "id": "1ae0f313-7246-4434-8c57-7f4a07c57316",
   "metadata": {
    "papermill": {
     "duration": 0.116432,
     "end_time": "2024-02-07T21:13:53.145139",
     "exception": false,
     "start_time": "2024-02-07T21:13:53.028707",
     "status": "completed"
    },
    "tags": []
   },
   "outputs": [],
   "source": [
    "test_df['text'] = X_test\n",
    "test_df['target'] = y_test\n",
    "test_df.to_csv('../../data/test.csv')"
   ]
  },
  {
   "cell_type": "code",
   "execution_count": null,
   "id": "5f2387ee-97c6-43a6-940c-8afce8b48f83",
   "metadata": {
    "papermill": {
     "duration": 0.001395,
     "end_time": "2024-02-07T21:13:53.147965",
     "exception": false,
     "start_time": "2024-02-07T21:13:53.146570",
     "status": "completed"
    },
    "tags": []
   },
   "outputs": [],
   "source": []
  }
 ],
 "metadata": {
  "kernelspec": {
   "display_name": "Python 3 (ipykernel)",
   "language": "python",
   "name": "python3"
  },
  "language_info": {
   "codemirror_mode": {
    "name": "ipython",
    "version": 3
   },
   "file_extension": ".py",
   "mimetype": "text/x-python",
   "name": "python",
   "nbconvert_exporter": "python",
   "pygments_lexer": "ipython3",
   "version": "3.11.5"
  },
  "papermill": {
   "default_parameters": {},
   "duration": 2.749943,
   "end_time": "2024-02-07T21:13:53.365246",
   "environment_variables": {},
   "exception": null,
   "input_path": "/Users/hemant/Desktop/text classification/notebooks/data_processing/data_preprocessing.ipynb",
   "output_path": "/Users/hemant/Desktop/text classification/notebooks/data_processing/data_preprocessing.ipynb",
   "parameters": {},
   "start_time": "2024-02-07T21:13:50.615303",
   "version": "2.5.0"
  }
 },
 "nbformat": 4,
 "nbformat_minor": 5
}
