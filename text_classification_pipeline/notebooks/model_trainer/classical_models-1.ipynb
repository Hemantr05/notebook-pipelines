{
 "cells": [
  {
   "cell_type": "markdown",
   "id": "b038122e-4862-4584-9b61-325bc62490cf",
   "metadata": {},
   "source": [
    "## Import packages"
   ]
  },
  {
   "cell_type": "code",
   "execution_count": null,
   "id": "f32137b4-f0b8-4ad5-b53d-a7ea365f9990",
   "metadata": {},
   "outputs": [],
   "source": [
    "import os\n",
    "import pickle\n",
    "# import numpy as np\n",
    "import pandas as pd\n",
    "from sklearn.feature_extraction.text import TfidfVectorizer\n",
    "# from sklearn.svm import LinearSVC, SVC\n",
    "from sklearn.linear_model import LogisticRegression\n",
    "# from sklearn.tree import DecisionTreeClassifier\n",
    "# from sklearn.ensemble import RandomForestClassifier\n",
    "\n",
    "\n",
    "from sklearn.metrics import confusion_matrix, classification_report"
   ]
  },
  {
   "cell_type": "code",
   "execution_count": null,
   "id": "8ed81ace-f015-4e47-84a4-db855743498e",
   "metadata": {},
   "outputs": [],
   "source": [
    "os.makedirs(\"../../models/encoding\", exist_ok=True)"
   ]
  },
  {
   "cell_type": "markdown",
   "id": "ef6b90f9-6867-4cf5-92b7-985b0bc1c869",
   "metadata": {},
   "source": [
    "## Load dataset"
   ]
  },
  {
   "cell_type": "code",
   "execution_count": null,
   "id": "3d29e913-349b-4aad-b9ad-acf25e292430",
   "metadata": {
    "tags": []
   },
   "outputs": [],
   "source": [
    "train_df = pd.read_csv(\"../../data/train.csv\")\n",
    "test_df = pd.read_csv(\"../../data/test.csv\")"
   ]
  },
  {
   "cell_type": "code",
   "execution_count": null,
   "id": "30e3c744-9a37-44fb-9ffb-f8a4ecfb7597",
   "metadata": {
    "tags": []
   },
   "outputs": [],
   "source": [
    "train_df.head(1)"
   ]
  },
  {
   "cell_type": "markdown",
   "id": "f460bc53-def8-4cd9-b336-a77cf96189ad",
   "metadata": {},
   "source": [
    "## TF-IDF encoding"
   ]
  },
  {
   "cell_type": "code",
   "execution_count": null,
   "id": "dc702350-ac9b-4cd3-a942-d0517901d27f",
   "metadata": {
    "tags": []
   },
   "outputs": [],
   "source": [
    "vectorizer = TfidfVectorizer(max_features=1000)\n",
    "X_train = vectorizer.fit_transform(train_df[\"text\"])\n",
    "\n",
    "pickle.dump(vectorizer, open('../../models/encoding/tfidf_vectorizer.pkl', 'wb'))"
   ]
  },
  {
   "cell_type": "code",
   "execution_count": null,
   "id": "6761460f-d6d9-4c5c-a9dd-37c0e24e682a",
   "metadata": {
    "tags": []
   },
   "outputs": [],
   "source": [
    "X_test = vectorizer.transform(test_df[\"text\"])"
   ]
  },
  {
   "cell_type": "markdown",
   "id": "f1b533c4-27fb-4034-86d0-872c722bbd60",
   "metadata": {},
   "source": [
    "## Modelling"
   ]
  },
  {
   "cell_type": "markdown",
   "id": "8130aefe-b44c-47df-8a55-0181b5536cf3",
   "metadata": {},
   "source": [
    "### Logistic Regression"
   ]
  },
  {
   "cell_type": "code",
   "execution_count": null,
   "id": "84d3c723-8e18-438d-9ffc-e20b0cfb3f57",
   "metadata": {
    "tags": []
   },
   "outputs": [],
   "source": [
    "lr = LogisticRegression()\n",
    "lr.fit(X_train, train_df['target'])"
   ]
  },
  {
   "cell_type": "code",
   "execution_count": null,
   "id": "1ab4df1f-82cb-4235-9638-9d9ccf3005df",
   "metadata": {
    "tags": []
   },
   "outputs": [],
   "source": [
    "test_df[\"lr_predictions\"] = lr.predict(X_test)"
   ]
  },
  {
   "cell_type": "code",
   "execution_count": null,
   "id": "03735d4b-728e-4ca3-b3e9-879b7a47ce65",
   "metadata": {
    "tags": []
   },
   "outputs": [],
   "source": [
    "print(\"classification report: \\n\", classification_report(test_df[\"target\"], test_df[\"lr_predictions\"]))"
   ]
  },
  {
   "cell_type": "code",
   "execution_count": null,
   "id": "e91a4371-d54c-4c3d-8001-682f06bd11c4",
   "metadata": {
    "tags": []
   },
   "outputs": [],
   "source": [
    "pickle.dump(lr, open('../../models/log_regression.pkl', 'wb'))"
   ]
  },
  {
   "cell_type": "markdown",
   "id": "24c2de9e-0894-4e1f-8318-281fb468ea1d",
   "metadata": {},
   "source": [
    "## Model explanation"
   ]
  },
  {
   "cell_type": "code",
   "execution_count": null,
   "id": "058d3086-4514-45ed-acb9-9e95668736e7",
   "metadata": {},
   "outputs": [],
   "source": []
  }
 ],
 "metadata": {
  "kernelspec": {
   "display_name": "Python 3 (ipykernel)",
   "language": "python",
   "name": "python3"
  },
  "language_info": {
   "codemirror_mode": {
    "name": "ipython",
    "version": 3
   },
   "file_extension": ".py",
   "mimetype": "text/x-python",
   "name": "python",
   "nbconvert_exporter": "python",
   "pygments_lexer": "ipython3",
   "version": "3.11.5"
  }
 },
 "nbformat": 4,
 "nbformat_minor": 5
}
