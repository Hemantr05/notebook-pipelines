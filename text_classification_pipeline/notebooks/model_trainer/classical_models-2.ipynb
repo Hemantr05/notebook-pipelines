{
 "cells": [
  {
   "cell_type": "markdown",
   "id": "b038122e-4862-4584-9b61-325bc62490cf",
   "metadata": {
    "papermill": {
     "duration": 0.008298,
     "end_time": "2024-02-07T21:17:04.085586",
     "exception": false,
     "start_time": "2024-02-07T21:17:04.077288",
     "status": "completed"
    },
    "tags": []
   },
   "source": [
    "## Import packages"
   ]
  },
  {
   "cell_type": "code",
   "execution_count": null,
   "id": "f32137b4-f0b8-4ad5-b53d-a7ea365f9990",
   "metadata": {
    "papermill": {
     "duration": 0.615406,
     "end_time": "2024-02-07T21:17:04.708134",
     "exception": false,
     "start_time": "2024-02-07T21:17:04.092728",
     "status": "completed"
    },
    "tags": []
   },
   "outputs": [],
   "source": [
    "import os\n",
    "import pickle\n",
    "# import numpy as np\n",
    "import pandas as pd\n",
    "from sklearn.feature_extraction.text import TfidfVectorizer\n",
    "# from sklearn.svm import LinearSVC, SVC\n",
    "# from sklearn.linear_model import LogisticRegression\n",
    "from sklearn.tree import DecisionTreeClassifier\n",
    "# from sklearn.ensemble import RandomForestClassifier\n",
    "\n",
    "\n",
    "from sklearn.metrics import confusion_matrix, classification_report"
   ]
  },
  {
   "cell_type": "code",
   "execution_count": null,
   "id": "8ed81ace-f015-4e47-84a4-db855743498e",
   "metadata": {
    "papermill": {
     "duration": 0.003996,
     "end_time": "2024-02-07T21:17:04.713454",
     "exception": false,
     "start_time": "2024-02-07T21:17:04.709458",
     "status": "completed"
    },
    "tags": []
   },
   "outputs": [],
   "source": [
    "os.makedirs(\"../../models/encoding\", exist_ok=True)"
   ]
  },
  {
   "cell_type": "markdown",
   "id": "ef6b90f9-6867-4cf5-92b7-985b0bc1c869",
   "metadata": {
    "papermill": {
     "duration": 0.001004,
     "end_time": "2024-02-07T21:17:04.715494",
     "exception": false,
     "start_time": "2024-02-07T21:17:04.714490",
     "status": "completed"
    },
    "tags": []
   },
   "source": [
    "## Load dataset"
   ]
  },
  {
   "cell_type": "code",
   "execution_count": null,
   "id": "3d29e913-349b-4aad-b9ad-acf25e292430",
   "metadata": {
    "papermill": {
     "duration": 0.236189,
     "end_time": "2024-02-07T21:17:04.952666",
     "exception": false,
     "start_time": "2024-02-07T21:17:04.716477",
     "status": "completed"
    },
    "tags": []
   },
   "outputs": [],
   "source": [
    "train_df = pd.read_csv(\"../../data/train.csv\")\n",
    "test_df = pd.read_csv(\"../../data/test.csv\")"
   ]
  },
  {
   "cell_type": "code",
   "execution_count": null,
   "id": "30e3c744-9a37-44fb-9ffb-f8a4ecfb7597",
   "metadata": {
    "papermill": {
     "duration": 0.007149,
     "end_time": "2024-02-07T21:17:04.961137",
     "exception": false,
     "start_time": "2024-02-07T21:17:04.953988",
     "status": "completed"
    },
    "tags": []
   },
   "outputs": [],
   "source": [
    "train_df.head(1)"
   ]
  },
  {
   "cell_type": "markdown",
   "id": "f460bc53-def8-4cd9-b336-a77cf96189ad",
   "metadata": {
    "papermill": {
     "duration": 0.001102,
     "end_time": "2024-02-07T21:17:04.963456",
     "exception": false,
     "start_time": "2024-02-07T21:17:04.962354",
     "status": "completed"
    },
    "tags": []
   },
   "source": [
    "## TF-IDF encoding"
   ]
  },
  {
   "cell_type": "code",
   "execution_count": null,
   "id": "dc702350-ac9b-4cd3-a942-d0517901d27f",
   "metadata": {
    "papermill": {
     "duration": 1.42217,
     "end_time": "2024-02-07T21:17:06.386916",
     "exception": true,
     "start_time": "2024-02-07T21:17:04.964746",
     "status": "failed"
    },
    "tags": []
   },
   "outputs": [],
   "source": [
    "vectorizer = TfidfVectorizer(max_features=1000)\n",
    "X_train = vectorizer.fit_transform(train_df[\"text\"])\n",
    "\n",
    "pickle.dump(vectorizer, open('../../models/encoding/tfidf_vectorizer.pkl', 'wb'))"
   ]
  },
  {
   "cell_type": "code",
   "execution_count": null,
   "id": "6761460f-d6d9-4c5c-a9dd-37c0e24e682a",
   "metadata": {
    "papermill": {
     "duration": null,
     "end_time": null,
     "exception": null,
     "start_time": null,
     "status": "pending"
    },
    "tags": []
   },
   "outputs": [],
   "source": [
    "X_test = vectorizer.transform(test_df[\"text\"])"
   ]
  },
  {
   "cell_type": "markdown",
   "id": "f1b533c4-27fb-4034-86d0-872c722bbd60",
   "metadata": {
    "papermill": {
     "duration": null,
     "end_time": null,
     "exception": null,
     "start_time": null,
     "status": "pending"
    },
    "tags": []
   },
   "source": [
    "## Modelling"
   ]
  },
  {
   "cell_type": "markdown",
   "id": "8130aefe-b44c-47df-8a55-0181b5536cf3",
   "metadata": {
    "papermill": {
     "duration": null,
     "end_time": null,
     "exception": null,
     "start_time": null,
     "status": "pending"
    },
    "tags": []
   },
   "source": [
    "### Logistic Regression"
   ]
  },
  {
   "cell_type": "code",
   "execution_count": null,
   "id": "84d3c723-8e18-438d-9ffc-e20b0cfb3f57",
   "metadata": {
    "papermill": {
     "duration": null,
     "end_time": null,
     "exception": null,
     "start_time": null,
     "status": "pending"
    },
    "tags": []
   },
   "outputs": [],
   "source": [
    "dtc = DecisionTreeClassifier()\n",
    "dtc.fit(X_train, train_df['target'])"
   ]
  },
  {
   "cell_type": "code",
   "execution_count": null,
   "id": "1ab4df1f-82cb-4235-9638-9d9ccf3005df",
   "metadata": {
    "papermill": {
     "duration": null,
     "end_time": null,
     "exception": null,
     "start_time": null,
     "status": "pending"
    },
    "tags": []
   },
   "outputs": [],
   "source": [
    "test_df[\"dtc_predictions\"] = dtc.predict(X_test)"
   ]
  },
  {
   "cell_type": "code",
   "execution_count": null,
   "id": "03735d4b-728e-4ca3-b3e9-879b7a47ce65",
   "metadata": {
    "papermill": {
     "duration": null,
     "end_time": null,
     "exception": null,
     "start_time": null,
     "status": "pending"
    },
    "tags": []
   },
   "outputs": [],
   "source": [
    "print(\"classification report: \\n\", classification_report(test_df[\"target\"], test_df[\"dtc_predictions\"]))"
   ]
  },
  {
   "cell_type": "code",
   "execution_count": null,
   "id": "e91a4371-d54c-4c3d-8001-682f06bd11c4",
   "metadata": {
    "papermill": {
     "duration": null,
     "end_time": null,
     "exception": null,
     "start_time": null,
     "status": "pending"
    },
    "tags": []
   },
   "outputs": [],
   "source": [
    "pickle.dump(dtc, open('../../models/dtc.pkl', 'wb'))"
   ]
  }
 ],
 "metadata": {
  "kernelspec": {
   "display_name": "Python 3 (ipykernel)",
   "language": "python",
   "name": "python3"
  },
  "language_info": {
   "codemirror_mode": {
    "name": "ipython",
    "version": 3
   },
   "file_extension": ".py",
   "mimetype": "text/x-python",
   "name": "python",
   "nbconvert_exporter": "python",
   "pygments_lexer": "ipython3",
   "version": "3.11.5"
  },
  "papermill": {
   "default_parameters": {},
   "duration": 3.373859,
   "end_time": "2024-02-07T21:17:06.705786",
   "environment_variables": {},
   "exception": true,
   "input_path": "/Users/hemant/Desktop/text classification/notebooks/model_trainer/classical_models.ipynb",
   "output_path": "/Users/hemant/Desktop/text classification/notebooks/model_trainer/classical_models.ipynb",
   "parameters": {},
   "start_time": "2024-02-07T21:17:03.331927",
   "version": "2.5.0"
  }
 },
 "nbformat": 4,
 "nbformat_minor": 5
}
