import os
import pickle
# import numpy as np
import pandas as pd
from sklearn.feature_extraction.text import TfidfVectorizer
# from sklearn.svm import LinearSVC, SVC
from sklearn.linear_model import LogisticRegression
# from sklearn.tree import DecisionTreeClassifier
# from sklearn.ensemble import RandomForestClassifier


from sklearn.metrics import confusion_matrix, classification_report


os.makedirs("../../models/encoding", exist_ok=True)


train_df = pd.read_csv("../../data/train.csv")
test_df = pd.read_csv("../../data/test.csv")


train_df.head(1)


vectorizer = TfidfVectorizer(max_features=1000)
X_train = vectorizer.fit_transform(train_df["text"])

pickle.dump(vectorizer, open('../models/encoding/tfidf_vectorizer.pkl', 'wb'))


X_test = vectorizer.transform(test_df["text"])


lr = LogisticRegression()
lr.fit(X_train, train_df['target'])


test_df["lr_predictions"] = lr.predict(X_test)


print("classification report: \n", classification_report(test_df["target"], test_df["lr_predictions"]))


pickle.dump(lr, open('../../models/log_regression.pkl', 'wb'))



