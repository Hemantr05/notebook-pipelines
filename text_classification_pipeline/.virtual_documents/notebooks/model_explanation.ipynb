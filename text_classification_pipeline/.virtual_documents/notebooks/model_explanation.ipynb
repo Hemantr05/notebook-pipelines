import pickle
import pandas as pd
from lime.lime_text import LimeTextExplainer

from sklearn.pipeline import make_pipeline


test_df = pd.read_csv("../data/test.csv")
vectorizer = pickle.load(open('../models/encoding/tfidf_vectorizer.pkl', 'rb'))
model = pickle.load(open('../models/log_regression.pkl', 'rb'))


idx2label = {0: 'Books', 1: 'Clothing & Accessories', 2: 'Electronics', 3: 'Household'}
class_names = list(idx2label.values())
class_names


# test_texts = vectorizer.transform(test_df['text'])
# predictions = model.predict(test_texts)
c = make_pipeline(vectorizer, model)


idx = test_df.index[1]

explainer = LimeTextExplainer(class_names = class_names)
exp = explainer.explain_instance(test_df["text"][idx], c.predict_proba, num_features = 10)
exp.as_list()


print("Question: \n", test_df["text"][idx])
model_preds = model.predict_proba(vectorizer.transform([test_df["text"][idx]]))
print("Probability (Books) =", model_preds[0, 0])
print("Probability ('Clothing & Accessories') =", model_preds[0, 1])
print("Probability ('Electronics') =", model_preds[0, 2])
print("Probability ('Household') =", model_preds[0, 3])
print("True Class is:", class_names[test_df["target"][idx]])


exp.show_in_notebook(text=test_df["text"][idx],show_predicted_value=True)


import seaborn as sns
import matplotlib.pyplot as plt
from collections import OrderedDict

weights = OrderedDict(exp.as_list())
lime_weights = pd.DataFrame({"words": list(weights.keys()), "weights": list(weights.values())})

sns.barplot(x = "words", y = "weights", data = lime_weights)
plt.xticks(rotation = 45)
plt.title("Sample {} features weights given by LIME".format(idx))
plt.show()






