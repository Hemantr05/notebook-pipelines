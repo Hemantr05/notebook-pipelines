import pandas as pd
from sklearn.model_selection import train_test_split


data = pd.read_csv('../../data/ecommerceDataset.csv')


data.shape


data.columns = ["target", "text"]


data.isna().sum()


data.dropna(inplace=True)
data.shape


data.target.value_counts()


label2idx = {key: i for i, key in enumerate(sorted(data.target.unique()))}
print("labe2idx: ", label2idx)
idx2label = {i: key for i, key in enumerate(sorted(data.target.unique()))}
print("idx2label", idx2label)


data.target = data.target.map(label2idx)


X = data.text.values
y = data.target.values


X_train, X_test, y_train, y_test = train_test_split(X, y, test_size=0.3, stratify=y, shuffle=True, random_state=42)


train_df = pd.DataFrame(columns=['text', 'target'])
test_df = pd.DataFrame(columns=['text', 'target'])


train_df['text'] = X_train
train_df['target'] = y_train
train_df.to_csv('../../data/train.csv')


test_df['text'] = X_test
test_df['target'] = y_test
test_df.to_csv('../../data/test.csv')



